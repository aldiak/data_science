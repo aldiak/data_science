{
 "cells": [
  {
   "cell_type": "code",
   "execution_count": 20,
   "metadata": {},
   "outputs": [
    {
     "name": "stdout",
     "output_type": "stream",
     "text": [
      "A\n"
     ]
    }
   ],
   "source": [
    "#2. Create a function that returns the majority vote in a list.\n",
    "#A majority vote is an element that occurs > N/2 times in a list (where N is the length of the list).\n",
    "\n",
    "from collections import Counter\n",
    "\n",
    "def majority_vote(l):\n",
    "    # count number of occurrence in list l  \n",
    "    z = Counter(l)    # will return a dictionnary\n",
    "    # check if value is greater than N\n",
    "    for k,v in z.items():    \n",
    "        if v>len(l)//2:\n",
    "            return k\n",
    "        else:\n",
    "            return None\n",
    "        #print(k,v)    \n",
    "mv = majority_vote([\"A\", \"A\", \"B\"]) \n",
    "print(mv)"
   ]
  },
  {
   "cell_type": "code",
   "execution_count": 43,
   "metadata": {},
   "outputs": [
    {
     "data": {
      "text/plain": [
       "'----- is - Wednesday!'"
      ]
     },
     "execution_count": 43,
     "metadata": {},
     "output_type": "execute_result"
    }
   ],
   "source": [
    "#3. Create a function that takes a string txt and censors any word from a given list lst. \n",
    "#The text removed must be replaced by the given character char.\n",
    "\n",
    "def censor_string(s,l,c):\n",
    "    # s is a string, l a list and c a character\n",
    "    s = s.split()\n",
    "    result = ''\n",
    "    index = 0\n",
    "    for i in s:\n",
    "        for j in l:\n",
    "            if i == j:\n",
    "                # change censored string to the character\n",
    "                s[index] = c * len(j)\n",
    "        index += 1\n",
    "    result = ' '.join(s)\n",
    "    return result\n",
    "            \n",
    "censor_string(\"Today is a Wednesday!\", [\"Today\", \"a\"], \"-\")\n",
    "\n",
    "#censor_string(\"The cow jumped over the moon.\", [\"cow\", \"over\"], \"*\")"
   ]
  },
  {
   "cell_type": "code",
   "execution_count": 54,
   "metadata": {},
   "outputs": [
    {
     "name": "stdout",
     "output_type": "stream",
     "text": [
      "2\n",
      "3\n",
      "5\n",
      "7\n"
     ]
    },
    {
     "data": {
      "text/plain": [
       "17"
      ]
     },
     "execution_count": 54,
     "metadata": {},
     "output_type": "execute_result"
    }
   ],
   "source": [
    "#5. Create a function that takes a list of numbers and returns the sum of all prime numbers in the list.\n",
    "\n",
    "def sum_primes(l):\n",
    "    array = []\n",
    "\n",
    "    for number in l:\n",
    "        if number <= 1:\n",
    "            continue\n",
    "        for i in range(2, number):\n",
    "            if (number % i) == 0:\n",
    "                break\n",
    "        else:\n",
    "            print(number)\n",
    "            array.append(number)\n",
    "\n",
    "    return sum(array)\n",
    "    \n",
    "sum_primes([1, 2, 3, 4, 5, 6, 7, 8, 9, 10])"
   ]
  }
 ],
 "metadata": {
  "kernelspec": {
   "display_name": "Python 3",
   "language": "python",
   "name": "python3"
  },
  "language_info": {
   "codemirror_mode": {
    "name": "ipython",
    "version": 3
   },
   "file_extension": ".py",
   "mimetype": "text/x-python",
   "name": "python",
   "nbconvert_exporter": "python",
   "pygments_lexer": "ipython3",
   "version": "3.7.6"
  }
 },
 "nbformat": 4,
 "nbformat_minor": 4
}
