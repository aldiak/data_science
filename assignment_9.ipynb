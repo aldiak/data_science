{
 "cells": [
  {
   "cell_type": "code",
   "execution_count": null,
   "metadata": {},
   "outputs": [],
   "source": [
    "# 1. To what does a relative path refer?\n",
    "\n",
    "# Answer: refer to the program's current working directory"
   ]
  },
  {
   "cell_type": "code",
   "execution_count": null,
   "metadata": {},
   "outputs": [],
   "source": [
    "# 2. What does an absolute path start with your operating system?\n",
    "\n",
    "# Answer: an absolute path start with the root folder C:\\ on windows os and C:/ on mac os and linux"
   ]
  },
  {
   "cell_type": "code",
   "execution_count": 1,
   "metadata": {},
   "outputs": [],
   "source": [
    "# 3. What do the functions os.getcwd() and os.chdir() do?\n",
    "\n",
    "# Answer: os.getcwd() return the current working directory as a string value and cahnge it with os.chdir()"
   ]
  },
  {
   "cell_type": "code",
   "execution_count": null,
   "metadata": {},
   "outputs": [],
   "source": [
    "# 4. What are the . and .. folders?\n",
    "\n",
    "# Answer: . for a folder name is shorthand for this directory and .. refer to the parent folder"
   ]
  },
  {
   "cell_type": "code",
   "execution_count": null,
   "metadata": {},
   "outputs": [],
   "source": [
    "# 5. In C:\\bacon\\eggs\\spam.txt, which part is the dir name, and which part is the base name?\n",
    "\n",
    "# Answer: C:\\bacon\\eggs is dir name and spam.txt is base. We can os.path.dirname(path) \\\n",
    "# and os.path.basename(path) to obtain them"
   ]
  },
  {
   "cell_type": "code",
   "execution_count": null,
   "metadata": {},
   "outputs": [],
   "source": [
    "# 6. What are the three “mode” arguments that can be passed to the open() function?\n",
    "\n",
    "# Answer: The 3 modes are: w: write, r: read and a: append"
   ]
  },
  {
   "cell_type": "code",
   "execution_count": null,
   "metadata": {},
   "outputs": [],
   "source": [
    "# 7. What happens if an existing file is opened in write mode?\n",
    "\n",
    "# Answer: write mode will overwrite the existing file and start from scratch."
   ]
  },
  {
   "cell_type": "code",
   "execution_count": null,
   "metadata": {},
   "outputs": [],
   "source": [
    "# 8. How do you tell the difference between read() and readlines()?\n",
    "\n",
    "# Answer: read() will return the content as single large string value, however readlines() will return the list of string values \\\n",
    "#from the file, one string for each line of text"
   ]
  }
 ],
 "metadata": {
  "kernelspec": {
   "display_name": "Python 3",
   "language": "python",
   "name": "python3"
  },
  "language_info": {
   "codemirror_mode": {
    "name": "ipython",
    "version": 3
   },
   "file_extension": ".py",
   "mimetype": "text/x-python",
   "name": "python",
   "nbconvert_exporter": "python",
   "pygments_lexer": "ipython3",
   "version": "3.7.6"
  }
 },
 "nbformat": 4,
 "nbformat_minor": 4
}
