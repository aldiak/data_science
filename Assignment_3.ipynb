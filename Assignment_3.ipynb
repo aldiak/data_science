{
 "cells": [
  {
   "cell_type": "code",
   "execution_count": 39,
   "metadata": {},
   "outputs": [],
   "source": [
    "\"\"\"1. Create a function to perform basic arithmetic operations that includes \\\n",
    "addition, subtraction, multiplication and division \\\n",
    "on a string number (e.g. \"12 + 24\" or \"23 - 21\" or \"12 // 12\" or \"12 * 21\").\"\"\"\n",
    "\n",
    "\n",
    "\n",
    "# This will work only if we have two digits in the left and the right of the operator as in the examples given.\n",
    "\n",
    "def string_op(s):\n",
    "    num1 = s[:2]#eval(s[0])\n",
    "    num2 = s[5:] #eval(s[2])\n",
    "    #l = list(s)\n",
    "    op = s[3]\n",
    "    \n",
    "    if op== '+':\n",
    "        return int(num1) + int(num2)\n",
    "    elif op== '-':\n",
    "        return int(num1) - int(num2)\n",
    "    elif op== '*':\n",
    "        return int(num1) * int(num2)\n",
    "    elif op== '//':\n",
    "        if int(num2) != 0:\n",
    "            return int(num1) // int(num2)\n",
    "        else:\n",
    "            return -1\n",
    "    else:\n",
    "        return None"
   ]
  },
  {
   "cell_type": "code",
   "execution_count": 43,
   "metadata": {},
   "outputs": [
    {
     "name": "stdout",
     "output_type": "stream",
     "text": [
      "None\n"
     ]
    }
   ],
   "source": [
    "s = \"13 // 0\"\n",
    "res = string_op(s)\n",
    "print(res)"
   ]
  },
  {
   "cell_type": "code",
   "execution_count": null,
   "metadata": {},
   "outputs": [],
   "source": []
  },
  {
   "cell_type": "code",
   "execution_count": 56,
   "metadata": {},
   "outputs": [
    {
     "name": "stdout",
     "output_type": "stream",
     "text": [
      " The perimeter is 47.08\n"
     ]
    }
   ],
   "source": [
    "\"\"\"2. Write a function that takes the coordinates of three points in the form of \\\n",
    "a 2d array and returns the perimeter of the triangle. \n",
    "The given points are the vertices of a triangle on a two-dimensional plane.\"\"\"\n",
    "\n",
    "\n",
    "import math\n",
    "\n",
    "def perimeter(l):\n",
    "    for _ in range(len(l)):\n",
    "        #distance btw point 1 and 2 = d1, point 2 and 3 = d2, point 3 and 1 = d3 and add them to get the perimeter\n",
    "        d1 = math.sqrt((l[1][0] - l[0][0])**2 + (l[1][1] - l[0][1])**2)\n",
    "        d2 = math.sqrt((l[2][0] - l[1][0])**2 + (l[2][1] - l[1][1])**2)\n",
    "        d3 = math.sqrt((l[0][0] - l[2][0])**2 + (l[0][1] - l[2][1])**2)\n",
    "        return d1 + d2 + d3\n",
    "        \n",
    "\n",
    "l =  [ [15, 7], [5, 22], [11, 1] ] \n",
    "peri = perimeter(l)\n",
    "print(f\" The perimeter is {peri:.2f}\")"
   ]
  },
  {
   "cell_type": "code",
   "execution_count": null,
   "metadata": {},
   "outputs": [],
   "source": []
  },
  {
   "cell_type": "code",
   "execution_count": 61,
   "metadata": {},
   "outputs": [
    {
     "name": "stdout",
     "output_type": "stream",
     "text": [
      " The bonus gaine is 6550\n"
     ]
    }
   ],
   "source": [
    "# Exo 4\n",
    "\n",
    "def pay_bonus(d):\n",
    "    if d<32:\n",
    "        return 0\n",
    "    elif d>32 and d<40:\n",
    "        return 32*0 + 8*325 \n",
    "    elif d>40 and d<48:\n",
    "        return 32*0 + 8*325 + 5*550 \n",
    "    else:\n",
    "        # nd is excess days after 48 days\n",
    "        nd = d - 48\n",
    "        return 32*0 + 8*325 + 5*550 + nd*600\n",
    "    \n",
    "d = 50\n",
    "bonus = pay_bonus(d)\n",
    "print(f\" The bonus gaine is {bonus}\")"
   ]
  },
  {
   "cell_type": "code",
   "execution_count": null,
   "metadata": {},
   "outputs": [],
   "source": []
  },
  {
   "cell_type": "code",
   "execution_count": 155,
   "metadata": {},
   "outputs": [
    {
     "name": "stdout",
     "output_type": "stream",
     "text": [
      "0\n",
      "0\n",
      "0\n",
      "0\n",
      "0\n",
      "1\n",
      "0\n",
      "0\n",
      "0\n",
      "1\n",
      "1\n",
      "0\n",
      "1\n",
      "1\n",
      "1\n",
      "1\n"
     ]
    }
   ],
   "source": [
    "a = [\n",
    "  [0, 0, 0, 0],\n",
    "  [0, 1, 0, 0],\n",
    "  [0, 1, 1, 0],\n",
    "  [1, 1, 1, 1]\n",
    "]\n",
    "rest = []\n",
    "for i in range(len(a)) : \n",
    "    for j in range(len(a[i])) :\n",
    "        s = a[i][j]\n",
    "        #i += 1\n",
    "        #j += 1\n",
    "        print(s)\n",
    "    "
   ]
  },
  {
   "cell_type": "code",
   "execution_count": null,
   "metadata": {},
   "outputs": [],
   "source": []
  },
  {
   "cell_type": "code",
   "execution_count": 148,
   "metadata": {},
   "outputs": [
    {
     "name": "stdout",
     "output_type": "stream",
     "text": [
      "True\n"
     ]
    }
   ],
   "source": [
    "\"\"\"\"5. A number is said to be Disarium if the sum of its digits raised to \\\n",
    "their respective positions is the number itself.\n",
    "\n",
    "Create a function that determines whether a number is a Disarium or not.\"\"\"\n",
    "\n",
    "\n",
    "\n",
    "import math \n",
    "  \n",
    "# Method to check whether a number is disarium or not\n",
    "def is_disarium(num) :\n",
    "  \n",
    "    rem = s = 0;    \n",
    "    lent = len(str(num))\n",
    "     \n",
    "#Makes a copy of the original number num    \n",
    "    n = num;    \n",
    "     \n",
    "#Calculates the sum of digits powered with their respective position    \n",
    "    while(num > 0):    \n",
    "        rem = num%10;    \n",
    "        s += int(rem**lent);    \n",
    "        num = num//10;    \n",
    "        lent -= 1;    \n",
    "     \n",
    "    #Checks whether the sum is equal to the number itself    \n",
    "    if(s == n):    \n",
    "        return True    \n",
    "    else:    \n",
    "        return False; \n",
    "    \n",
    "disarium = is_disarium(135) \n",
    "print(disarium)"
   ]
  },
  {
   "cell_type": "code",
   "execution_count": null,
   "metadata": {},
   "outputs": [],
   "source": []
  }
 ],
 "metadata": {
  "kernelspec": {
   "display_name": "Python 3",
   "language": "python",
   "name": "python3"
  },
  "language_info": {
   "codemirror_mode": {
    "name": "ipython",
    "version": 3
   },
   "file_extension": ".py",
   "mimetype": "text/x-python",
   "name": "python",
   "nbconvert_exporter": "python",
   "pygments_lexer": "ipython3",
   "version": "3.7.6"
  }
 },
 "nbformat": 4,
 "nbformat_minor": 4
}
