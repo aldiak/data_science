{
 "cells": [
  {
   "cell_type": "code",
   "execution_count": null,
   "metadata": {},
   "outputs": [],
   "source": [
    "# 1. How do you distinguish between shutil.copy() and shutil.copytree()?\n",
    "\n",
    "# Answer: shutil.copy() will copy a single, however, shutil.copytree() will copy the whole folder and its contents."
   ]
  },
  {
   "cell_type": "code",
   "execution_count": null,
   "metadata": {},
   "outputs": [],
   "source": [
    "# 2. What function is used to rename files??\n",
    "\n",
    "# Answer: shutil.move() function is used to rename file."
   ]
  },
  {
   "cell_type": "code",
   "execution_count": null,
   "metadata": {},
   "outputs": [],
   "source": [
    "# 3. What is the difference between the delete functions in the send2trash and shutil modules?\n",
    "\n",
    "# Answer: The delete function in shutil modules will delete the files and folder permanently and \\\n",
    "# send2trash will move them to the recycle bin."
   ]
  },
  {
   "cell_type": "code",
   "execution_count": null,
   "metadata": {},
   "outputs": [],
   "source": [
    "# 4.ZipFile objects have a close() method just like File objects’ close() method. \\\n",
    "# What ZipFile method is equivalent to File objects’ open() method?\n",
    "\n",
    "# Answer: The zipfile.ZipFile() function is equivalent to the open() function."
   ]
  },
  {
   "cell_type": "code",
   "execution_count": 31,
   "metadata": {},
   "outputs": [
    {
     "name": "stdout",
     "output_type": "stream",
     "text": [
      "NCNSC20.pdf\n"
     ]
    }
   ],
   "source": [
    "# 5. Create a programme that searches a folder tree for files with a certain file extension (such as .pdf or .jpg). \\\n",
    "# Copy these files from whatever location they are in to a new folder.\n",
    "\n",
    "# Answer: \n",
    "\n",
    "import os\n",
    "import shutil\n",
    "\n",
    "dir_ = os.getcwd()\n",
    "path = os.listdir(dir_)\n",
    "extensions = ['pdf', 'jpg']\n",
    "dest = 'C:/Users/Alou/Desktop/Assignment/new_dir'\n",
    "for file in path:\n",
    "    if '.' in file:\n",
    "        filename, file_ext = file.split('.')\n",
    "        #print(file_ext)\n",
    "        if file_ext in extensions:\n",
    "            print(file)\n",
    "            shutil.move(file, dest)\n",
    "        else:\n",
    "            None\n",
    "    else:\n",
    "        None\n",
    "        "
   ]
  },
  {
   "cell_type": "code",
   "execution_count": null,
   "metadata": {},
   "outputs": [],
   "source": []
  }
 ],
 "metadata": {
  "kernelspec": {
   "display_name": "Python 3",
   "language": "python",
   "name": "python3"
  },
  "language_info": {
   "codemirror_mode": {
    "name": "ipython",
    "version": 3
   },
   "file_extension": ".py",
   "mimetype": "text/x-python",
   "name": "python",
   "nbconvert_exporter": "python",
   "pygments_lexer": "ipython3",
   "version": "3.7.6"
  }
 },
 "nbformat": 4,
 "nbformat_minor": 4
}
